{
 "cells": [
  {
   "cell_type": "code",
   "execution_count": null,
   "id": "a8f03cce",
   "metadata": {},
   "outputs": [],
   "source": [
    "import numpy as np\n",
    "from PIL import Image, ImageFilter\n",
    "image = Image.open('kunfu.jpg') # kunfu is the name of the pic\n",
    "image = image.convert('RGB')\n",
    "arrayView = np.array(image)\n",
    "data = image.getdata()\n",
    "\n",
    "colorsWhite = [(255, 255, 255), (254, 254, 254), (253, 253, 253), (252, 252, 252), (251, 251, 251)]\n",
    "colorsBlack = [(0, 0, 0), (1, 1, 1), (2, 2, 2), (3, 3, 3)]\n",
    "newArrayEl = []\n",
    "for item in data:\n",
    "    if item in colorsWhite:\n",
    "        newArrayEl.append((0, 0, 0))\n",
    "    elif item in colorsBlack:\n",
    "        newArrayEl.append((255, 255, 255))\n",
    "    else:\n",
    "        newArrayEl.append(item)\n",
    "\n",
    "image.putdata(newArrayEl)\n",
    "original = image.filter(ImageFilter.BLUR)\n",
    "original.save('kunfu1.jpg')\n",
    "original.show()"
   ]
  }
 ],
 "metadata": {
  "kernelspec": {
   "display_name": "Python 3 (ipykernel)",
   "language": "python",
   "name": "python3"
  },
  "language_info": {
   "codemirror_mode": {
    "name": "ipython",
    "version": 3
   },
   "file_extension": ".py",
   "mimetype": "text/x-python",
   "name": "python",
   "nbconvert_exporter": "python",
   "pygments_lexer": "ipython3",
   "version": "3.9.6"
  }
 },
 "nbformat": 4,
 "nbformat_minor": 5
}
